{
 "cells": [
  {
   "cell_type": "markdown",
   "metadata": {},
   "source": [
    "### Algorithms"
   ]
  },
  {
   "cell_type": "markdown",
   "metadata": {},
   "source": [
    "---"
   ]
  },
  {
   "cell_type": "markdown",
   "metadata": {},
   "source": [
    "### Searching and sorting"
   ]
  },
  {
   "cell_type": "markdown",
   "metadata": {},
   "source": [
    "#### Brute force\n",
    "Brute force just goes over every possible combination of a problem in order to find a solution.\n",
    "Brute force algorithms are good to know about. Because they work. Because they are easy to think about and program. Because for the right kind of problem (its a small problem, or you can make it a small problem using intuition), they aren't slow to run.\n",
    "* Brute force search"
   ]
  },
  {
   "cell_type": "code",
   "execution_count": 116,
   "metadata": {},
   "outputs": [],
   "source": [
    "import numpy as np\n",
    "import timeit\n",
    "import random\n",
    "import hashlib"
   ]
  },
  {
   "cell_type": "code",
   "execution_count": 13,
   "metadata": {},
   "outputs": [],
   "source": [
    "def search_parameter_setup(seed):\n",
    "    list_size = np.random.randint(seed)\n",
    "    list_ = list(range(list_size))\n",
    "    target = np.random.randint(list_size)\n",
    "    return list_, target"
   ]
  },
  {
   "cell_type": "code",
   "execution_count": 111,
   "metadata": {},
   "outputs": [],
   "source": [
    "def brute_force(brute_list, target):\n",
    "    for i in range(len(brute_list)):\n",
    "        if target == i:\n",
    "            return i"
   ]
  },
  {
   "cell_type": "code",
   "execution_count": 112,
   "metadata": {},
   "outputs": [],
   "source": [
    "def time_my_search(algorithm):\n",
    "    times = []\n",
    "    for i in range(10000,1000000,10000):\n",
    "        list_, target = search_parameter_setup(i)\n",
    "        times.append(timeit.timeit('algorithm(list_,target)', number=1, globals=locals()))\n",
    "\n",
    "    return np.array(times).mean()"
   ]
  },
  {
   "cell_type": "code",
   "execution_count": 113,
   "metadata": {},
   "outputs": [
    {
     "data": {
      "text/plain": [
       "0.006854142202079094"
      ]
     },
     "execution_count": 113,
     "metadata": {},
     "output_type": "execute_result"
    }
   ],
   "source": [
    "time_my_search(brute_force)"
   ]
  },
  {
   "cell_type": "markdown",
   "metadata": {},
   "source": [
    "---"
   ]
  },
  {
   "cell_type": "markdown",
   "metadata": {},
   "source": [
    "### Divide and conquer algorithms\n",
    "##### Divide and conquer is the first 'optimised' search algorithm set above brute force\n"
   ]
  },
  {
   "cell_type": "markdown",
   "metadata": {},
   "source": [
    "---"
   ]
  },
  {
   "cell_type": "markdown",
   "metadata": {},
   "source": [
    "### Binary Search"
   ]
  },
  {
   "cell_type": "markdown",
   "metadata": {},
   "source": [
    "Compare a key, K, with a sorted array's middle element A[m]. If it matches, the array stops, else it searches the left hand side if K < A[m], or right hand side if K > A[m]."
   ]
  },
  {
   "cell_type": "code",
   "execution_count": null,
   "metadata": {},
   "outputs": [],
   "source": [
    "Time and space complexity to solve these problems for the worst case scenario - BigO(n)"
   ]
  },
  {
   "cell_type": "code",
   "execution_count": null,
   "metadata": {},
   "outputs": [],
   "source": [
    "log(n)"
   ]
  },
  {
   "cell_type": "code",
   "execution_count": 109,
   "metadata": {},
   "outputs": [],
   "source": [
    "def binary_search(list_, target):\n",
    "    if len(list_)>0:\n",
    "        # search at the middle position\n",
    "        half = len(list_)//2\n",
    "        # if target > middle, take left split of list\n",
    "        if target == list_[half]:\n",
    "            return target\n",
    "        # else search right split of list\n",
    "        elif target > list_[half]:\n",
    "            binary_search(list_[half:], target)\n",
    "        # else search left split of list\n",
    "        elif target <= list_[half]:\n",
    "            binary_search(list_[:half], target)\n",
    "        else:\n",
    "            print('whoopsy')"
   ]
  },
  {
   "cell_type": "code",
   "execution_count": 110,
   "metadata": {},
   "outputs": [
    {
     "data": {
      "text/plain": [
       "0.002928416666599323"
      ]
     },
     "execution_count": 110,
     "metadata": {},
     "output_type": "execute_result"
    }
   ],
   "source": [
    "time_my_search(binary_search)"
   ]
  },
  {
   "cell_type": "markdown",
   "metadata": {},
   "source": [
    "---"
   ]
  },
  {
   "cell_type": "markdown",
   "metadata": {},
   "source": [
    "### Mergesort"
   ]
  },
  {
   "cell_type": "markdown",
   "metadata": {},
   "source": [
    "* Sort a list of unsorted numbers\n",
    "* Recursively split the list into smaller lists, leftlist and rightlist, until list size is one\n",
    "* Then recombine the lists by checking element wise each value\n",
    "* python's `sorted()` uses a version of mergesort called `TimSort`\n",
    "* Check out `https://wiki.python.org/moin/HowTo/Sorting` for more info"
   ]
  },
  {
   "cell_type": "markdown",
   "metadata": {},
   "source": [
    "[heres a visual example of mergesort](https://youtu.be/kPRA0W1kECg?t=66)"
   ]
  },
  {
   "cell_type": "code",
   "execution_count": null,
   "metadata": {},
   "outputs": [],
   "source": [
    "def merge(left_half,right_half):\n",
    "\n",
    "    res = []\n",
    "    while len(left_half) != 0 and len(right_half) != 0:\n",
    "        if left_half[0] < right_half[0]:\n",
    "            res.append(left_half[0])\n",
    "            left_half.remove(left_half[0])\n",
    "        else:\n",
    "            res.append(right_half[0])\n",
    "            right_half.remove(right_half[0])\n",
    "    if len(left_half) == 0:\n",
    "        res = res + right_half\n",
    "    else:\n",
    "        res = res + left_half\n",
    "    return res"
   ]
  },
  {
   "cell_type": "code",
   "execution_count": null,
   "metadata": {},
   "outputs": [],
   "source": [
    "def merge_sort(unsorted_list):\n",
    "    if len(unsorted_list) <= 1:\n",
    "        return unsorted_list\n",
    "# Find the middle point and devide it\n",
    "    middle = len(unsorted_list) // 2\n",
    "    left_list = unsorted_list[:middle]\n",
    "    right_list = unsorted_list[middle:]\n",
    "\n",
    "    left_list = merge_sort(left_list)\n",
    "    right_list = merge_sort(right_list)\n",
    "    return list(merge(left_list, right_list))"
   ]
  },
  {
   "cell_type": "markdown",
   "metadata": {},
   "source": [
    "---"
   ]
  },
  {
   "cell_type": "markdown",
   "metadata": {},
   "source": [
    "### Bubble sort\n",
    "* Move from left to right of an unsorted array\n",
    "* Compare each element\n",
    "* If the left element is larger than the right element, switch them\n",
    "* The largest element will 'bubble' its way to the right end of the array\n",
    "* Over time, the sorted largest elements will emerge at the right end of the array"
   ]
  },
  {
   "cell_type": "markdown",
   "metadata": {},
   "source": [
    "[heres a visual example of bubblesort](https://youtu.be/kPRA0W1kECg?t=241)"
   ]
  },
  {
   "cell_type": "code",
   "execution_count": null,
   "metadata": {},
   "outputs": [],
   "source": [
    "def bubblesort(list):\n",
    "\n",
    "# Swap the elements to arrange in order\n",
    "    for iter_num in range(len(list)-1,0,-1):\n",
    "        for idx in range(iter_num):\n",
    "            if list[idx]>list[idx+1]:\n",
    "                temp = list[idx]\n",
    "                list[idx] = list[idx+1]\n",
    "                list[idx+1] = temp\n",
    "\n",
    "\n",
    "list = [19,2,31,45,6,11,121,27]\n",
    "bubblesort(list)\n",
    "print(list)"
   ]
  },
  {
   "cell_type": "markdown",
   "metadata": {},
   "source": [
    "---"
   ]
  },
  {
   "cell_type": "markdown",
   "metadata": {},
   "source": [
    "### Blockchain"
   ]
  },
  {
   "cell_type": "markdown",
   "metadata": {},
   "source": [
    "A database of records which is shared across a network of computers\n",
    "\n",
    "3 main components:\n",
    "* A record - an individual component which\n",
    "* A block - a collection of records\n",
    "* A chain - all the blocks shared across all the records\n",
    "\n",
    "Steps:\n",
    "* Create and encode a record\n",
    "* Check the record for its validity\n",
    "* If good, add record to a block\n",
    "* The block contains the hash of the previous block plus the hash of all records in the block\n",
    "* When the block is 'full', add it to the blockchain\n",
    "\n",
    "Other things to consider:\n",
    "* The network is decentralised, no central authority\n",
    "* Who can be on the network? only members\n",
    "* Consensus tests for new members:\n",
    "    * proof of work - mine for puzzles\n",
    "    * proof of stake - enter your assets into a lottery"
   ]
  },
  {
   "cell_type": "code",
   "execution_count": 114,
   "metadata": {},
   "outputs": [],
   "source": [
    "class Block:\n",
    "\n",
    "    def __init__(self, prev, content):\n",
    "        self.prev = prev\n",
    "        self.content = content\n",
    "        self.checksum = ''\n",
    "        self.validation_list = []\n",
    "\n",
    "    def __repr__(self):\n",
    "        return f\"<{self.content}|{self.checksum}>\\n\"\n",
    "\n",
    "    def mine(self):\n",
    "        while not self.is_valid():\n",
    "            self.checksum = str(random.randint(1, 100000000000))\n",
    "        print(f'successfully mined checksum: {self.checksum}')\n",
    "\n",
    "    #return a boolean of whether the hash ends with a 0000\n",
    "    def is_valid(self):\n",
    "        #create a hash\n",
    "        h = hashlib.sha256()\n",
    "        if self.prev:\n",
    "            #str().encode() turns a string into unicode and update changes the hash with new data\n",
    "            h.update(self.prev.checksum.encode())\n",
    "        #more updates\n",
    "        h.update(self.content.encode())\n",
    "        h.update(self.checksum.encode())\n",
    "        #a printable version of the hexdigest\n",
    "        hexd = h.hexdigest()\n",
    "        print(f'validating: {hexd}')\n",
    "        self.validation_list.append(hexd)\n",
    "        #boolean evaluating the end of the hash\n",
    "        return hexd.endswith('000')\n"
   ]
  },
  {
   "cell_type": "code",
   "execution_count": 115,
   "metadata": {},
   "outputs": [],
   "source": [
    "def main():\n",
    "    \"\"\"Creates blocks until you press DONE\"\"\"\n",
    "    block = Block(None, 'OPENING BLOCK')\n",
    "    blockchain = []\n",
    "\n",
    "    while block.content != 'DONE':\n",
    "        block.mine()\n",
    "        if block.is_valid():\n",
    "            blockchain.append(block)\n",
    "        print(blockchain)\n",
    "        print(len(block.validation_list))\n",
    "        content = input(\"enter record for next block, or enter 'DONE' to finish: \")\n",
    "        block = Block(block, content)"
   ]
  },
  {
   "cell_type": "code",
   "execution_count": null,
   "metadata": {},
   "outputs": [],
   "source": [
    "#main()"
   ]
  }
 ],
 "metadata": {
  "kernelspec": {
   "display_name": "Python 3",
   "language": "python",
   "name": "python3"
  },
  "language_info": {
   "codemirror_mode": {
    "name": "ipython",
    "version": 3
   },
   "file_extension": ".py",
   "mimetype": "text/x-python",
   "name": "python",
   "nbconvert_exporter": "python",
   "pygments_lexer": "ipython3",
   "version": "3.7.6"
  }
 },
 "nbformat": 4,
 "nbformat_minor": 4
}
